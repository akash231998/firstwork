{
 "cells": [
  {
   "cell_type": "code",
   "execution_count": null,
   "metadata": {},
   "outputs": [],
   "source": []
  },
  {
   "cell_type": "code",
   "execution_count": 7,
   "metadata": {},
   "outputs": [],
   "source": []
  },
  {
   "cell_type": "code",
   "execution_count": null,
   "metadata": {},
   "outputs": [],
   "source": []
  },
  {
   "cell_type": "code",
   "execution_count": null,
   "metadata": {},
   "outputs": [],
   "source": [
    "s=input(\"in the format alphabet:num,alpha:num\\n\")\n",
    "print(s)\n",
    "l=s.split(',')\n",
    "l1=[]\n",
    "l2=[]\n",
    "s1=''\n",
    "for i in range(len(l)):\n",
    "    s1=''.join(l[i])\n",
    "    l1=s1.split(':')\n",
    "    #print(l1)\n",
    "    for j in range(len(l1)):\n",
    "        if j%2==0:\n",
    "            #print(l1[j+1])\n",
    "            r=0\n",
    "            s=0\n",
    "            num=l1[j+1]\n",
    "            #print(num)\n",
    "            sum=0\n",
    "            for k in range(len(num)):\n",
    "                sum+=int(num[k])\n",
    "            s2=l1[j]\n",
    "            #print(s2)\n",
    "            if sum%2==0:\n",
    "                s2=s2[len(s2)-1]+s2[0:len(s2)-1]\n",
    "                #l2.append(s2)\n",
    "            else:\n",
    "                 s2=s2[1:len(s2)]+s2[0]\n",
    "            l2.append(s2)    \n",
    "print(l2)"
   ]
  },
  {
   "cell_type": "code",
   "execution_count": null,
   "metadata": {},
   "outputs": [],
   "source": []
  },
  {
   "cell_type": "code",
   "execution_count": null,
   "metadata": {},
   "outputs": [],
   "source": []
  }
 ],
 "metadata": {
  "kernelspec": {
   "display_name": "Python 3",
   "language": "python",
   "name": "python3"
  },
  "language_info": {
   "codemirror_mode": {
    "name": "ipython",
    "version": 3
   },
   "file_extension": ".py",
   "mimetype": "text/x-python",
   "name": "python",
   "nbconvert_exporter": "python",
   "pygments_lexer": "ipython3",
   "version": "3.6.5"
  }
 },
 "nbformat": 4,
 "nbformat_minor": 2
}
